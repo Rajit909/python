{
 "cells": [
  {
   "cell_type": "code",
   "execution_count": 2,
   "id": "593e8f3d-7e02-4402-8108-e171ce63c32e",
   "metadata": {},
   "outputs": [
    {
     "name": "stdout",
     "output_type": "stream",
     "text": [
      "Hello, Jupyter!\n",
      "<class 'int'>\n",
      "<class 'float'>\n",
      "<class 'str'>\n"
     ]
    }
   ],
   "source": [
    "# basics of python programming\n",
    "print(\"Hello, Jupyter!\")\n",
    "x = 10\n",
    "y = 10.5\n",
    "z = \"Python\"\n",
    "print(type(x))\n",
    "print(type(y))\n",
    "print(type(z))\n"
   ]
  },
  {
   "cell_type": "code",
   "execution_count": 3,
   "id": "f3fe2bb4-01a1-445b-b512-ff256fc09fc1",
   "metadata": {},
   "outputs": [
    {
     "name": "stdout",
     "output_type": "stream",
     "text": [
      "13\n",
      "7\n",
      "30\n",
      "3.3333333333333335\n",
      "3\n",
      "1\n",
      "1000\n"
     ]
    }
   ],
   "source": [
    "a = 10\n",
    "b = 3\n",
    "\n",
    "print(a + b)  # Addition\n",
    "print(a - b)  # Subtraction\n",
    "print(a * b)  # Multiplication\n",
    "print(a / b)  # Division (float)\n",
    "print(a // b) # Floor division\n",
    "print(a % b)  # Modulus (remainder)\n",
    "print(a ** b) # Exponent (10³)\n"
   ]
  },
  {
   "cell_type": "code",
   "execution_count": 4,
   "id": "7080a30c-b00e-4c76-b238-20f6f4c2e6b8",
   "metadata": {},
   "outputs": [
    {
     "name": "stdout",
     "output_type": "stream",
     "text": [
      "Enter your name:  rajit\n"
     ]
    },
    {
     "name": "stdout",
     "output_type": "stream",
     "text": [
      "Hello, rajit\n"
     ]
    }
   ],
   "source": [
    "name = input(\"Enter your name: \")\n",
    "print(\"Hello,\", name)\n"
   ]
  },
  {
   "cell_type": "code",
   "execution_count": 5,
   "id": "9c0767e7-6e18-48a4-8dfb-73f82f611f8a",
   "metadata": {},
   "outputs": [
    {
     "name": "stdout",
     "output_type": "stream",
     "text": [
      "Enter your age:  25\n"
     ]
    },
    {
     "name": "stdout",
     "output_type": "stream",
     "text": [
      "Next year, you will be 26\n"
     ]
    }
   ],
   "source": [
    "age = int(input(\"Enter your age: \"))\n",
    "print(\"Next year, you will be\", age + 1)\n"
   ]
  },
  {
   "cell_type": "code",
   "execution_count": 6,
   "id": "b4a5f6a2-f68b-4c4b-9749-35751dba5149",
   "metadata": {},
   "outputs": [
    {
     "name": "stdout",
     "output_type": "stream",
     "text": [
      "6\n",
      "PYTHON\n",
      "python\n",
      "P\n",
      "n\n",
      "Pyt\n",
      "nohtyP\n"
     ]
    }
   ],
   "source": [
    "text = \"Python\"\n",
    "\n",
    "print(len(text))        # Length of string\n",
    "print(text.upper())     # Convert to uppercase\n",
    "print(text.lower())     # Convert to lowercase\n",
    "print(text[0])          # First character (index starts at 0)\n",
    "print(text[-1])         # Last character\n",
    "print(text[0:3])        # Slice (first 3 letters)\n",
    "print(text[::-1])       # Reverse string\n"
   ]
  },
  {
   "cell_type": "code",
   "execution_count": 7,
   "id": "a25787f3-3616-4f0d-ace2-43b140fdb29f",
   "metadata": {},
   "outputs": [
    {
     "name": "stdout",
     "output_type": "stream",
     "text": [
      "Hello, Rajit\n"
     ]
    }
   ],
   "source": [
    "name = \"Rajit\"\n",
    "greeting = \"Hello, \" + name\n",
    "print(greeting)\n"
   ]
  },
  {
   "cell_type": "code",
   "execution_count": 8,
   "id": "130ede16-32e4-4178-9602-4ff8256232ac",
   "metadata": {},
   "outputs": [
    {
     "name": "stdout",
     "output_type": "stream",
     "text": [
      "My name is Rajit and I am 25 years old.\n"
     ]
    }
   ],
   "source": [
    "age = 25\n",
    "print(f\"My name is {name} and I am {age} years old.\")\n"
   ]
  },
  {
   "cell_type": "code",
   "execution_count": 1,
   "id": "554b424f-65f3-457a-8383-dfd7ad7b7946",
   "metadata": {},
   "outputs": [
    {
     "name": "stdout",
     "output_type": "stream",
     "text": [
      "Python is fun!\n",
      "   Python is awesome!   \n",
      "['Python', 'is', 'fun!']\n"
     ]
    }
   ],
   "source": [
    "s = \"   Python is fun!   \"\n",
    "\n",
    "print(s.strip())       # Remove spaces\n",
    "print(s.replace(\"fun\", \"awesome\"))  # Replace word\n",
    "print(s.split())       # Split into list of words\n"
   ]
  },
  {
   "cell_type": "code",
   "execution_count": null,
   "id": "be559a51",
   "metadata": {},
   "outputs": [
    {
     "name": "stdout",
     "output_type": "stream",
     "text": [
      "['Python', 'Java', 'C++', 'JavaScript']\n",
      "Python\n"
     ]
    }
   ],
   "source": [
    "# Python Collections (Arrays)\n",
    "# There are four collection data types in the Python programming language:\n",
    "\n",
    "# List is a collection which is ordered and changeable. Allows duplicate members.\n",
    "# Tuple is a collection which is ordered and unchangeable. Allows duplicate members.\n",
    "# Set is a collection which is unordered, unchangeable*, and unindexed. No duplicate members.\n",
    "# Dictionary is a collection which is ordered** and changeable. No duplicate members.\n",
    "# lang = list([\"Python\", \"Java\", \"C++\", \"JavaScript\"])\n",
    "# print(lang)\n",
    "# print(lang[0])        # First element"
   ]
  },
  {
   "cell_type": "code",
   "execution_count": 20,
   "id": "f3ef9608",
   "metadata": {},
   "outputs": [
    {
     "name": "stdout",
     "output_type": "stream",
     "text": [
      "('apple', 'banana', 'cherry', 'date', 'elderberry', 'apple', 'banana', 'cherry', 'date', 'elderberry')\n"
     ]
    }
   ],
   "source": [
    "# Indexing and slicing\n",
    "# print(lang[1:3])      # Slice from index 1 to 2 \n",
    "# print(lang[-1])       # Last element\n",
    "# print(lang[::-1])     # Reverse list\n",
    "# Modifying list\n",
    "# lang.append(\"Ruby\")  # Add element at end\n",
    "# lang.remove(\"Java\")  # Remove element\n",
    "# print(lang)     # Add element at end\n",
    "\n",
    "# Tuples: immutable lists, cannot be changed, use parentheses, useful for fixed data, faster than lists, useful as dictionary keys\n",
    "# coords = (10, 20)\n",
    "# upate attempt\n",
    "# coords[0] = 15  # This will raise an error\n",
    "# newCoords = list(coords)\n",
    "# newCoords[0] = 15\n",
    "# print(newCoords)\n",
    "# print(coords)\n",
    "fruits = (\"apple\", \"banana\", \"cherry\", \"date\", \"elderberry\")\n",
    "\n",
    "# (green, yellow, *red) = fruits\n",
    "\n",
    "# print(green)\n",
    "# print(yellow)\n",
    "# print(red)\n",
    "\n",
    "# loop through tuple\n",
    "# for fruit in fruits:\n",
    "#     print(fruit)  \n",
    "\n",
    "# loop with index\n",
    "# for index, fruit in enumerate(fruits):\n",
    "#     print(index, fruit)\n",
    "\n",
    "# for i in range(len(fruits)):\n",
    "#     print(i, fruits[i])\n",
    "\n",
    "# using while loop\n",
    "# i = 0\n",
    "# while i < len(fruits):\n",
    "#     print(i, fruits[i])\n",
    "#     i += 1\n",
    "\n",
    "# join tuple elements into a string\n",
    "# fruitString = \", \".join(fruits)\n",
    "# print(fruitString)\n",
    "\n",
    "# join two tuples\n",
    "# moreFruits = (\"fig\", \"grape\")\n",
    "# allFruits = fruits + moreFruits\n",
    "# print(allFruits)\n",
    "\n",
    "# multiply tuple\n",
    "repeatedFruits = fruits * 2\n",
    "print(repeatedFruits)\n",
    "\n",
    "\n"
   ]
  },
  {
   "cell_type": "code",
   "execution_count": null,
   "id": "3c971db5",
   "metadata": {},
   "outputs": [
    {
     "name": "stdout",
     "output_type": "stream",
     "text": [
      "{1, 2, 'b', 'a'}\n"
     ]
    }
   ],
   "source": [
    "\n",
    "# # Sets: unordered collections of unique items, use curly braces, useful for membership testing and removing duplicates\n",
    "# # fruits = {\"apple\", \"banana\", \"orange\"}\n",
    "\n",
    "# # collection1 = {\"apple\", 21, 3.14, True, (1, 2)}\n",
    "# # print(collection1)\n",
    "\n",
    "# # set Constructor\n",
    "# # A = set([1, 2, 3, 4]) \n",
    "# # B = set([3, 4, 5, 6])\n",
    "\n",
    "# # print(A)\n",
    "# # print(B)\n",
    "\n",
    "# # using methods: construction, add, remove, union, intersection, difference\n",
    "# # A = {1, 2, 3, 4}\n",
    "# # B = {3, 4, 5, 6}\n",
    "# # print(A.union(B))          # Union\n",
    "# # print(A.intersection(B))   # Intersection   \n",
    "# # print(A.difference(B))     # Difference\n",
    "# # print(B.difference(A))     # Difference\n",
    "# # Symmetric difference\n",
    "# # print(A.symmetric_difference(B))\n",
    "# # print(B.symmetric_difference(A))\n",
    "# # Adding and removing elements\n",
    "# # A.add(5)\n",
    "# # A.remove(2)\n",
    "# # print(A)\n",
    "\n",
    "# # accessing elements\n",
    "# # for item in fruits:\n",
    "# #     print(item)\n",
    "\n",
    "# # in operator\n",
    "# # print(\"banana\" in fruits)  # True\n",
    "# # print(\"grape\" in fruits)   # False\n",
    "\n",
    "# # not in operator\n",
    "# # print(\"banana\" not in fruits)  # False\n",
    "# # print(\"grape\" not in fruits)   # True\n",
    "\n",
    "# # updating sets\n",
    "# # A.update([7, 8, 9])\n",
    "# # print(A)\n",
    "\n",
    "# # using del to delete entire set\n",
    "# # del A\n",
    "\n",
    "# # loop through set\n",
    "# # for fruit in fruits:\n",
    "# #     print(fruit)\n",
    "\n",
    "# # joining sets\n",
    "set1 = {\"a\", \"b\", 3}\n",
    "set2 = {1, 2, 3}\n",
    "# # set3 = {1, 2, \"a\", \"b\", True, None}\n",
    "\n",
    "# # set3 = set1 | set2 | set3  # Union\n",
    "# # print(set3)\n",
    "\n",
    "# # join a set and a tuple\n",
    "# set2 = (\"x\", \"y\", \"z\")\n",
    "# # set3 = set1.union(set2)\n",
    "# # print(set3)\n",
    "\n",
    "# updating a set with elements from a tuple\n",
    "# set1.update(set2)\n",
    "# print(set1)\n",
    "\n",
    "# intersection_update, intersection, difference_update, symmetric_difference_update\n",
    "# set1.intersection_update(set2)\n",
    "# set1.difference_update(set2)\n",
    "# set1.symmetric_difference_update(set2)\n",
    "# print(set1)\n",
    "\n",
    "# Use ^ to join two sets:\n",
    "# set3 = set1 ^ set2\n",
    "# print(set3)\n",
    "    "
   ]
  },
  {
   "cell_type": "code",
   "execution_count": 41,
   "id": "284edbf2",
   "metadata": {},
   "outputs": [
    {
     "name": "stdout",
     "output_type": "stream",
     "text": [
      "frozenset({1, 2, 3, 4, 5, 6})\n",
      "frozenset({3, 4})\n",
      "frozenset({1, 2})\n",
      "frozenset({5, 6})\n",
      "frozenset({1, 2, 5, 6})\n",
      "frozenset({1, 2, 5, 6})\n"
     ]
    }
   ],
   "source": [
    "# Python frozenset\n",
    "# frozenset is an immutable version of a set.\n",
    "\n",
    "# Like sets, it contains unique, unordered, unchangeable elements.\n",
    "\n",
    "# Unlike sets, elements cannot be added or removed from a frozenset.\n",
    "\n",
    "a = frozenset([1, 2, 3, 4])\n",
    "b = frozenset([3, 4, 5, 6])\n",
    "print(a.union(b))          # Union\n",
    "print(a.intersection(b))   # Intersection\n",
    "print(a.difference(b))     # Difference\n",
    "print(b.difference(a))     # Difference\n",
    "print(a.symmetric_difference(b))  # Symmetric difference\n",
    "print(b.symmetric_difference(a))  # Symmetric difference\n",
    "# Adding and removing elements will raise an error\n",
    "# a.add(5)      # This will raise an error  \n",
    "# a.remove(2)   # This will raise an error\n",
    "# print(a)\n",
    "# accessing elements\n",
    "# for item in a:\n",
    "#     print(item)"
   ]
  },
  {
   "cell_type": "code",
   "execution_count": null,
   "id": "828e60c9",
   "metadata": {},
   "outputs": [],
   "source": [
    "# Dictionaries: key-value pairs, use curly braces with colons, useful for structured data\n",
    "# person = {\"name\": \"Alice\", \"age\": 30, \"city\": \"New York\"}\n",
    "# print(person)\n",
    "# print(person[\"name\"])  # Access value by key\n",
    "# person[\"age\"] = 31     # Modify value\n",
    "# print(person)   \n",
    "# Adding new key-value pair\n",
    "# person[\"job\"] = \"Engineer\"\n",
    "# print(person)\n",
    "\n",
    "\n",
    "# The dict() Constructor\n",
    "\n",
    "# person = dict(name=\"Bob\", age=25, city=\"Los Angeles\")\n",
    "# print(person)\n",
    "\n",
    "# get keys, values, items\n",
    "# print(person.keys()) \n",
    "# print(person.values())\n",
    "# print(person.items())\n",
    "\n",
    "# using in operator\n",
    "# if \"age\" in person:\n",
    "#     print(\"available\")\n",
    "    \n",
    "# not in operator\n",
    "# if \"ages\" not in person:\n",
    "#     print(\"not available\")\n",
    "\n",
    "# update key's value\n",
    "\n",
    "# person['age'] = 26\n",
    "# person['country'] = \"America\"\n",
    "# print(person)\n",
    "\n",
    "# methods: pop, copy, dict\n",
    "\n",
    "# nested dictionary\n",
    "myfamily = {\n",
    "  \"child1\" : {\n",
    "    \"name\" : \"Emil\",\n",
    "    \"year\" : 2004\n",
    "  },\n",
    "  \"child2\" : {\n",
    "    \"name\" : \"Tobias\",\n",
    "    \"year\" : 2007\n",
    "  },\n",
    "  \"child3\" : {\n",
    "    \"name\" : \"Linus\",\n",
    "    \"year\" : 2011\n",
    "  }\n",
    "}\n",
    "\n",
    "for x, obj in myfamily.items():\n",
    "  print(x)\n",
    "\n",
    "  for y in obj:\n",
    "    print(y + ':', obj[y])\n",
    "\n"
   ]
  },
  {
   "cell_type": "code",
   "execution_count": null,
   "id": "79c8bfce",
   "metadata": {},
   "outputs": [],
   "source": []
  }
 ],
 "metadata": {
  "kernelspec": {
   "display_name": "Python 3 (ipykernel)",
   "language": "python",
   "name": "python3"
  },
  "language_info": {
   "codemirror_mode": {
    "name": "ipython",
    "version": 3
   },
   "file_extension": ".py",
   "mimetype": "text/x-python",
   "name": "python",
   "nbconvert_exporter": "python",
   "pygments_lexer": "ipython3",
   "version": "3.13.3"
  }
 },
 "nbformat": 4,
 "nbformat_minor": 5
}
