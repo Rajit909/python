{
 "cells": [
  {
   "cell_type": "code",
   "execution_count": 2,
   "id": "593e8f3d-7e02-4402-8108-e171ce63c32e",
   "metadata": {},
   "outputs": [
    {
     "name": "stdout",
     "output_type": "stream",
     "text": [
      "Hello, Jupyter!\n",
      "<class 'int'>\n",
      "<class 'float'>\n",
      "<class 'str'>\n"
     ]
    }
   ],
   "source": [
    "# basics of python programming\n",
    "print(\"Hello, Jupyter!\")\n",
    "x = 10\n",
    "y = 10.5\n",
    "z = \"Python\"\n",
    "print(type(x))\n",
    "print(type(y))\n",
    "print(type(z))\n"
   ]
  },
  {
   "cell_type": "code",
   "execution_count": 3,
   "id": "f3fe2bb4-01a1-445b-b512-ff256fc09fc1",
   "metadata": {},
   "outputs": [
    {
     "name": "stdout",
     "output_type": "stream",
     "text": [
      "13\n",
      "7\n",
      "30\n",
      "3.3333333333333335\n",
      "3\n",
      "1\n",
      "1000\n"
     ]
    }
   ],
   "source": [
    "a = 10\n",
    "b = 3\n",
    "\n",
    "print(a + b)  # Addition\n",
    "print(a - b)  # Subtraction\n",
    "print(a * b)  # Multiplication\n",
    "print(a / b)  # Division (float)\n",
    "print(a // b) # Floor division\n",
    "print(a % b)  # Modulus (remainder)\n",
    "print(a ** b) # Exponent (10³)\n"
   ]
  },
  {
   "cell_type": "code",
   "execution_count": 4,
   "id": "7080a30c-b00e-4c76-b238-20f6f4c2e6b8",
   "metadata": {},
   "outputs": [
    {
     "name": "stdin",
     "output_type": "stream",
     "text": [
      "Enter your name:  rajit\n"
     ]
    },
    {
     "name": "stdout",
     "output_type": "stream",
     "text": [
      "Hello, rajit\n"
     ]
    }
   ],
   "source": [
    "name = input(\"Enter your name: \")\n",
    "print(\"Hello,\", name)\n"
   ]
  },
  {
   "cell_type": "code",
   "execution_count": 5,
   "id": "9c0767e7-6e18-48a4-8dfb-73f82f611f8a",
   "metadata": {},
   "outputs": [
    {
     "name": "stdin",
     "output_type": "stream",
     "text": [
      "Enter your age:  25\n"
     ]
    },
    {
     "name": "stdout",
     "output_type": "stream",
     "text": [
      "Next year, you will be 26\n"
     ]
    }
   ],
   "source": [
    "age = int(input(\"Enter your age: \"))\n",
    "print(\"Next year, you will be\", age + 1)\n"
   ]
  },
  {
   "cell_type": "code",
   "execution_count": 6,
   "id": "b4a5f6a2-f68b-4c4b-9749-35751dba5149",
   "metadata": {},
   "outputs": [
    {
     "name": "stdout",
     "output_type": "stream",
     "text": [
      "6\n",
      "PYTHON\n",
      "python\n",
      "P\n",
      "n\n",
      "Pyt\n",
      "nohtyP\n"
     ]
    }
   ],
   "source": [
    "text = \"Python\"\n",
    "\n",
    "print(len(text))        # Length of string\n",
    "print(text.upper())     # Convert to uppercase\n",
    "print(text.lower())     # Convert to lowercase\n",
    "print(text[0])          # First character (index starts at 0)\n",
    "print(text[-1])         # Last character\n",
    "print(text[0:3])        # Slice (first 3 letters)\n",
    "print(text[::-1])       # Reverse string\n"
   ]
  },
  {
   "cell_type": "code",
   "execution_count": 7,
   "id": "a25787f3-3616-4f0d-ace2-43b140fdb29f",
   "metadata": {},
   "outputs": [
    {
     "name": "stdout",
     "output_type": "stream",
     "text": [
      "Hello, Rajit\n"
     ]
    }
   ],
   "source": [
    "name = \"Rajit\"\n",
    "greeting = \"Hello, \" + name\n",
    "print(greeting)\n"
   ]
  },
  {
   "cell_type": "code",
   "execution_count": 8,
   "id": "130ede16-32e4-4178-9602-4ff8256232ac",
   "metadata": {},
   "outputs": [
    {
     "name": "stdout",
     "output_type": "stream",
     "text": [
      "My name is Rajit and I am 25 years old.\n"
     ]
    }
   ],
   "source": [
    "age = 25\n",
    "print(f\"My name is {name} and I am {age} years old.\")\n"
   ]
  },
  {
   "cell_type": "code",
   "execution_count": 9,
   "id": "554b424f-65f3-457a-8383-dfd7ad7b7946",
   "metadata": {},
   "outputs": [
    {
     "name": "stdout",
     "output_type": "stream",
     "text": [
      "Python is fun!\n",
      "   Python is awesome!   \n",
      "['Python', 'is', 'fun!']\n"
     ]
    }
   ],
   "source": [
    "s = \"   Python is fun!   \"\n",
    "\n",
    "print(s.strip())       # Remove spaces\n",
    "print(s.replace(\"fun\", \"awesome\"))  # Replace word\n",
    "print(s.split())       # Split into list of words\n"
   ]
  }
 ],
 "metadata": {
  "kernelspec": {
   "display_name": "Python [conda env:base] *",
   "language": "python",
   "name": "conda-base-py"
  },
  "language_info": {
   "codemirror_mode": {
    "name": "ipython",
    "version": 3
   },
   "file_extension": ".py",
   "mimetype": "text/x-python",
   "name": "python",
   "nbconvert_exporter": "python",
   "pygments_lexer": "ipython3",
   "version": "3.13.5"
  }
 },
 "nbformat": 4,
 "nbformat_minor": 5
}
