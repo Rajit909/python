# basics of python programming
print("Hello, Jupyter!")
x = 10
y = 10.5
z = "Python"
print(type(x))
print(type(y))
print(type(z))



a = 10
b = 3

print(a + b)  # Addition
print(a - b)  # Subtraction
print(a * b)  # Multiplication
print(a / b)  # Division (float)
print(a // b) # Floor division
print(a % b)  # Modulus (remainder)
print(a ** b) # Exponent (10³)



name = input("Enter your name: ")
print("Hello,", name)



age = int(input("Enter your age: "))
print("Next year, you will be", age + 1)



text = "Python"

print(len(text))        # Length of string
print(text.upper())     # Convert to uppercase
print(text.lower())     # Convert to lowercase
print(text[0])          # First character (index starts at 0)
print(text[-1])         # Last character
print(text[0:3])        # Slice (first 3 letters)
print(text[::-1])       # Reverse string



name = "Rajit"
greeting = "Hello, " + name
print(greeting)



age = 25
print(f"My name is {name} and I am .")




